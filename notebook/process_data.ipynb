{
 "cells": [
  {
   "cell_type": "code",
   "execution_count": 1,
   "metadata": {},
   "outputs": [
    {
     "name": "stderr",
     "output_type": "stream",
     "text": [
      "/Library/Frameworks/Python.framework/Versions/3.11/lib/python3.11/site-packages/tqdm/auto.py:21: TqdmWarning: IProgress not found. Please update jupyter and ipywidgets. See https://ipywidgets.readthedocs.io/en/stable/user_install.html\n",
      "  from .autonotebook import tqdm as notebook_tqdm\n"
     ]
    }
   ],
   "source": [
    "import pandas as pd\n",
    "import numpy as np\n",
    "\n",
    "import logging\n",
    "import ast\n",
    "\n",
    "from sentence_transformers import SentenceTransformer\n",
    "from chromadb.utils.embedding_functions import SentenceTransformerEmbeddingFunction\n"
   ]
  },
  {
   "cell_type": "code",
   "execution_count": 2,
   "metadata": {},
   "outputs": [],
   "source": [
    "pd.set_option('display.max_columns', 100)\n",
    "pd.set_option('display.width', 1000)\n",
    "pd.set_option('max_colwidth', 100)"
   ]
  },
  {
   "cell_type": "code",
   "execution_count": 3,
   "metadata": {},
   "outputs": [],
   "source": [
    "# Configure logging\n",
    "logging.basicConfig(\n",
    "    level=logging.INFO,\n",
    "    format='%(asctime)s - %(levelname)s - %(message)s'\n",
    ")\n",
    "logger = logging.getLogger(__name__)"
   ]
  },
  {
   "cell_type": "code",
   "execution_count": 4,
   "metadata": {},
   "outputs": [],
   "source": [
    "EMBEDDING_MODEL =  'paraphrase-multilingual-mpnet-base-v2'"
   ]
  },
  {
   "cell_type": "code",
   "execution_count": 5,
   "metadata": {},
   "outputs": [],
   "source": [
    "def preprocess_product_data(df: pd.DataFrame) -> pd.DataFrame:\n",
    "    \"\"\"\n",
    "    Preprocess product dataset\n",
    "    \"\"\"\n",
    "    df.fillna('', inplace=True)\n",
    "    df['product_gender'] = df['product_gender'].apply(ast.literal_eval).apply(lambda x: ','.join(x)) \n",
    "    df['product_style'] = df['product_style'].apply(ast.literal_eval).apply(lambda x: ', '.join(x)) \n",
    "    df['product_note'] = df['product_note'].apply(ast.literal_eval).apply(lambda x: ', '.join(x)) \n",
    "    df['combined_text'] = (\n",
    "        df['full_name'].str.strip() + ' ' +\n",
    "        df['product_gender'].str.strip() + ' ' +\n",
    "        df['brand'].str.strip() + ' ' +\n",
    "        df['description'].str.strip() + ' ' +\n",
    "        df['origin'].str.strip() + ' ' +\n",
    "        df['product_style'].str.strip() + ' ' +\n",
    "        df['product_note'].str.strip()\n",
    "    )\n",
    "\n",
    "    numeric_cols = df.drop(['parent_id'], axis=1).dtypes[(df.dtypes=='int64') | (df.dtypes=='float64')].index.values\n",
    "    for col in numeric_cols:\n",
    "        df[col] = pd.to_numeric(df[col], errors='coerce')\n",
    "\n",
    "    df = df[df['price'] >= 0]\n",
    "    df = df[df['product_gender'] != '']\n",
    "    df = df[df['description']!='']    \n",
    "    return df"
   ]
  },
  {
   "cell_type": "code",
   "execution_count": 6,
   "metadata": {},
   "outputs": [
    {
     "name": "stderr",
     "output_type": "stream",
     "text": [
      "2025-03-29 07:05:19,482 - INFO - Loading datasets...\n"
     ]
    },
    {
     "name": "stdout",
     "output_type": "stream",
     "text": [
      "(1538, 25)\n"
     ]
    },
    {
     "data": {
      "text/html": [
       "<div>\n",
       "<style scoped>\n",
       "    .dataframe tbody tr th:only-of-type {\n",
       "        vertical-align: middle;\n",
       "    }\n",
       "\n",
       "    .dataframe tbody tr th {\n",
       "        vertical-align: top;\n",
       "    }\n",
       "\n",
       "    .dataframe thead th {\n",
       "        text-align: right;\n",
       "    }\n",
       "</style>\n",
       "<table border=\"1\" class=\"dataframe\">\n",
       "  <thead>\n",
       "    <tr style=\"text-align: right;\">\n",
       "      <th></th>\n",
       "      <th>id</th>\n",
       "      <th>name</th>\n",
       "      <th>full_name</th>\n",
       "      <th>parent_handle</th>\n",
       "      <th>sku</th>\n",
       "      <th>production_year</th>\n",
       "      <th>origin</th>\n",
       "      <th>price</th>\n",
       "      <th>compare_at_price</th>\n",
       "      <th>parent_id</th>\n",
       "      <th>total_quantity</th>\n",
       "      <th>sold_quantity</th>\n",
       "      <th>brand</th>\n",
       "      <th>product_gender</th>\n",
       "      <th>product_style</th>\n",
       "      <th>product_note</th>\n",
       "      <th>rate</th>\n",
       "      <th>count_rate</th>\n",
       "      <th>count_rate_1</th>\n",
       "      <th>count_rate_2</th>\n",
       "      <th>count_rate_3</th>\n",
       "      <th>count_rate_4</th>\n",
       "      <th>count_rate_5</th>\n",
       "      <th>description</th>\n",
       "      <th>combined_text</th>\n",
       "    </tr>\n",
       "  </thead>\n",
       "  <tbody>\n",
       "    <tr>\n",
       "      <th>0</th>\n",
       "      <td>1003772321</td>\n",
       "      <td>Dsquared2 Icon Pour Homme</td>\n",
       "      <td>Dsquared2 Icon Pour Homme - 100ml Tester</td>\n",
       "      <td>dsquared2-icon-pour-homme</td>\n",
       "      <td>110100204700</td>\n",
       "      <td>2024</td>\n",
       "      <td>Ý</td>\n",
       "      <td>2200000</td>\n",
       "      <td>0</td>\n",
       "      <td>1003772317</td>\n",
       "      <td>0</td>\n",
       "      <td>0</td>\n",
       "      <td>DSQUARED2</td>\n",
       "      <td>Nam</td>\n",
       "      <td>Tinh tế, Nam tính, Cuốn hút</td>\n",
       "      <td>Hương gừng, Cây xô thơm</td>\n",
       "      <td>0.0</td>\n",
       "      <td>0</td>\n",
       "      <td>0</td>\n",
       "      <td>0</td>\n",
       "      <td>0</td>\n",
       "      <td>0</td>\n",
       "      <td>0</td>\n",
       "      <td>Hương đầu: Gừng, Cam chanh Hương giữa: Hoa tulip, Xô thơm, Phong lữ, Oải hương Hương cuối: Akiga...</td>\n",
       "      <td>Dsquared2 Icon Pour Homme - 100ml Tester Nam DSQUARED2 Hương đầu: Gừng, Cam chanh Hương giữa: Ho...</td>\n",
       "    </tr>\n",
       "  </tbody>\n",
       "</table>\n",
       "</div>"
      ],
      "text/plain": [
       "           id                       name                                 full_name              parent_handle           sku  production_year origin    price  compare_at_price   parent_id  total_quantity  sold_quantity      brand product_gender                product_style             product_note  rate  count_rate  count_rate_1  count_rate_2  count_rate_3  count_rate_4  count_rate_5                                                                                          description                                                                                        combined_text\n",
       "0  1003772321  Dsquared2 Icon Pour Homme  Dsquared2 Icon Pour Homme - 100ml Tester  dsquared2-icon-pour-homme  110100204700             2024      Ý  2200000                 0  1003772317               0              0  DSQUARED2            Nam  Tinh tế, Nam tính, Cuốn hút  Hương gừng, Cây xô thơm   0.0           0             0             0             0             0             0  Hương đầu: Gừng, Cam chanh Hương giữa: Hoa tulip, Xô thơm, Phong lữ, Oải hương Hương cuối: Akiga...  Dsquared2 Icon Pour Homme - 100ml Tester Nam DSQUARED2 Hương đầu: Gừng, Cam chanh Hương giữa: Ho..."
      ]
     },
     "execution_count": 6,
     "metadata": {},
     "output_type": "execute_result"
    }
   ],
   "source": [
    "logger.info(\"Loading datasets...\")\n",
    "df = pd.read_csv('../data/namperfume_product.csv')\n",
    "processed = preprocess_product_data(df)\n",
    "print(processed.shape)\n",
    "processed.head(1)"
   ]
  },
  {
   "cell_type": "code",
   "execution_count": 7,
   "metadata": {},
   "outputs": [],
   "source": [
    "def create_product_embeddings(df: pd.DataFrame, model_name: str = EMBEDDING_MODEL) -> np.ndarray:\n",
    "    \"\"\"\n",
    "    Create embeddings for product descriptions\n",
    "    \"\"\"\n",
    "    logger.info(f\"Creating embeddings using {model_name}...\")\n",
    "    \n",
    "    model = SentenceTransformer(model_name)\n",
    "    texts = df.apply(\n",
    "        lambda x: f\"{x['combined_text']}\", \n",
    "        axis=1\n",
    "    ).tolist()\n",
    "    embeddings = model.encode(texts,show_progress_bar=True,batch_size=32)\n",
    "    \n",
    "    return embeddings"
   ]
  },
  {
   "cell_type": "code",
   "execution_count": 8,
   "metadata": {},
   "outputs": [
    {
     "name": "stderr",
     "output_type": "stream",
     "text": [
      "2025-03-29 07:05:19,680 - INFO - Anonymized telemetry enabled. See                     https://docs.trychroma.com/telemetry for more information.\n"
     ]
    },
    {
     "name": "stderr",
     "output_type": "stream",
     "text": [
      "2025-03-29 07:05:19,903 - INFO - Creating embeddings using paraphrase-multilingual-mpnet-base-v2...\n",
      "2025-03-29 07:05:19,930 - INFO - Use pytorch device_name: mps\n",
      "2025-03-29 07:05:19,930 - INFO - Load pretrained SentenceTransformer: paraphrase-multilingual-mpnet-base-v2\n",
      "Batches: 100%|██████████| 49/49 [01:05<00:00,  1.33s/it]\n"
     ]
    },
    {
     "name": "stdout",
     "output_type": "stream",
     "text": [
      "Stored 1538 documents in ChromaDB.\n"
     ]
    }
   ],
   "source": [
    "import chromadb\n",
    "\n",
    "chroma_client = chromadb.PersistentClient(path=\"chroma_db_v1\")\n",
    "collection = chroma_client.get_or_create_collection(name=\"new_documents\")\n",
    "\n",
    "processed_list = processed.to_dict(orient=\"records\")\n",
    "embed = create_product_embeddings(processed).tolist()\n",
    "for i, product in enumerate(processed_list):\n",
    "    collection.add(\n",
    "        ids=[str(product['id'])],  \n",
    "        embeddings=[embed[i]],\n",
    "        metadatas=[{\n",
    "            \"name\": product[\"name\"],\n",
    "            \"description\": product[\"description\"],\n",
    "            \"product_style\": product['product_style'],\n",
    "            \"production_year\": product[\"production_year\"],\n",
    "            'origin': product['origin'], \n",
    "            'price': product['price'], \n",
    "            'compare_at_price': product['compare_at_price'], \n",
    "            'sold_quantity': product['sold_quantity'],\n",
    "            'brand': product['brand'],\n",
    "            'product_gender': product['product_gender'], \n",
    "            'product_note': product['product_note'], \n",
    "            'rate': product['rate'], \n",
    "            'count_rate': product['count_rate'], \n",
    "            'count_rate_1': product['count_rate_1'], \n",
    "            'count_rate_2': product['count_rate_2'], \n",
    "            'count_rate_3': product['count_rate_3'],\n",
    "            'count_rate_4': product['count_rate_4'],\n",
    "            'count_rate_5': product['count_rate_5']\n",
    "            \n",
    "            }]\n",
    "    )\n",
    "\n",
    "print(f\"Stored {collection.count()} documents in ChromaDB.\")\n"
   ]
  },
  {
   "cell_type": "code",
   "execution_count": 9,
   "metadata": {},
   "outputs": [],
   "source": [
    "import google.generativeai as genai\n",
    "import os\n",
    "from dotenv import load_dotenv\n",
    "\n",
    "# Load variables from .env file\n",
    "load_dotenv()\n",
    "\n",
    "GEMINI_API_KEY = os.getenv(\"GEMINI_API_KEY\")\n",
    "genai.configure(api_key=GEMINI_API_KEY)"
   ]
  },
  {
   "cell_type": "code",
   "execution_count": 12,
   "metadata": {},
   "outputs": [],
   "source": [
    "def rag_query(question):\n",
    "    model = SentenceTransformer(EMBEDDING_MODEL)\n",
    "    query_embedding = model.encode([question], convert_to_tensor=True).tolist()\n",
    "\n",
    "    results = collection.query(\n",
    "        query_embeddings=query_embedding,\n",
    "        n_results=3  \n",
    "    )\n",
    "    context = \"\\n\\n\".join(['\\n'.join([res['name'],res[\"description\"]]) for res in results[\"metadatas\"][0]])\n",
    "    print(f'=== context === \\n {context}')\n",
    "    prompt = f\"Using the following context:\\n{context}\\nAnswer the question: {question}\"\n",
    "    response = genai.GenerativeModel(\"gemini-2.0-flash\").generate_content(prompt)\n",
    "\n",
    "    return response.text,context"
   ]
  },
  {
   "cell_type": "markdown",
   "metadata": {},
   "source": [
    "Test query"
   ]
  },
  {
   "cell_type": "code",
   "execution_count": 13,
   "metadata": {},
   "outputs": [
    {
     "name": "stderr",
     "output_type": "stream",
     "text": [
      "2025-03-29 07:12:29,466 - INFO - Use pytorch device_name: mps\n",
      "2025-03-29 07:12:29,467 - INFO - Load pretrained SentenceTransformer: paraphrase-multilingual-mpnet-base-v2\n",
      "Batches: 100%|██████████| 1/1 [00:00<00:00, 17.39it/s]\n"
     ]
    },
    {
     "name": "stdout",
     "output_type": "stream",
     "text": [
      "=== context === \n",
      " Versace Pour Homme Dylan Blue\n",
      "Hương đầu: Hương nước, Cam Bergamot Calabria, Quả bưởi, Lá sung Hương giữa: Lá hoa tím, Cây hoắc hương, Tiêu đen, Hương Ambroxan, Giấy cói Hương cuối: Xạ hương, Nhang (Hương), Đậu Tonka, Saffron Nếu như có ai hỏi tôi đã bao giờ bị một ai đó mê hoặc bởi mùi hương hay chưa, có lẽ tôi sẽ không do dự mà nói rằng đã từng, và trong đầu nghĩ ngay đến mùi hương man mát, nam tính được toả ra bởi Versace Pour Homme Dylan Blue. Tôi bị ấn tượng bởi những nốt hương của chai nước hoa này bởi sự mở đầu tinh khiết, trong trẻo của hương nước, Cam Bergamot và Bưởi. Nhưng trái với sự phóng khoáng, tươi mới ấy, Dylan Blue còn hấp dẫn tôi bởi cái sự nam tính của Hương Ambroxan, sự gai góc đầy cá tính của Tiêu đen. Chàng ta còn có thêm cái ấm áp, ngọt ngào của Xạ hương và Đậu tonka. Thứ hương đầy gợi cảm ấy như một cái bẫy ngọt ngào khiến bao con mồi tự sa vào. Bạn biết đó, tôi cũng là một trong số những con mồi bị thu hút bởi thứ hương sạch sẽ, cuốn hút ấy.\n",
      "\n",
      "Dior Homme Intense 2011\n",
      "Hương Đầu: Hoa Oải Hương (Lavender) Hương giữa: Hoa diên vĩ, Cây vông vang, Quả lê Hương cuối: Cỏ hương bài, Gỗ tuyết tùng Virginia Chắc hẳn bạn đã từng nghe rất nhiều về những mùi hương nước hoa được miêu tả bằng chữ \"đẹp\" dành cho phái nữ, nhưng từ đẹp rất khi khi được dùng cho nước hoa Nam, hẳn bởi phái mạnh không quen dùng từ ngữ đó. Nhưng với rất nhiều người khi tiếp xúc với Dior Homme Intense, khái niệm mùi hương \"đẹp\" sẽ được dành tặng cho gã đàn ông này một cách thuyết phục. Dior Homme Intense được ví như là một kẻ gây nghiện, gây nghiện với chính người dùng, và lây lan cái \"nghiện\" đó cho cả những người xung quanh. Một ngày mưa gió, lạnh lẽo, tỉnh giấc cùng bầu trời xám xịt đen sì ngoài kia, cách tốt nhất để làm hài lòng bản thân là xịt một shot Dior Homme Intense vào cơ thể và đi ngủ tiếp, như thể nó sẽ mang lại sự thư giãn tuyệt đối, bình yên vô điều kiện cho bất kỳ chàng trai nào. Ở khía cạnh gây ấn tượng với phái nữ, mang trong mình mùi hương Lavender đầy sự cám dỗ, tinh tế cùng Hoa diên vĩ và cây vông vang, Dior Homme Intense thúc dục và dễ dàng tháo gỡ mọi rào cản một cách diệu kỳ, biến những thứ tưởng lạ mà trở thành quen một cách thú vị. Chàng trai nhà Dior này được nhiều người đặt cho cái biệt danh bảnh trai nhưng khá lười biếng, cũng chính vì vậy mà mọi cô gái đều muốn được chăm sóc và ở bên cạnh để hỗ trợ hết mình cho gã đàn ông đào hoa bẩm sinh này.\n",
      "\n",
      "Viktor&Rolf Flowerbomb Dew\n",
      "Hương đầu: Lê, Ambrette, Giọt sương, Cam bergamot Hưng giữa: Hoa diên vĩ, Hoa hồng Hương cuối: Xạ hương, Len cashmeran, Hoa vòi voi Đôi khi ta không cần phải cá tính để được nổi bật, hay gợi cảm để được chú ý đến, là phụ nữ, bạn chỉ cần chọn cho mình một mùi hương bạn thích, đúng tâm trạng, giản đơn nhưng đủ khiến bản thân thấy vui. Hay quý giá hơn thảy là tự mình cảm được chất “thơ\" trong mùi hương ấy mà không cần đến bất kỳ sự khen ngợi, ca tụng của ai. Tôi phải thừa nhận mình si mê Flowerbomb Dew Viktor & Rolf ngay từ những giây phút đầu tiên, vẻ lãng đãng, mộng mơ của cô nàng đã khiến tôi phải suy đoán trong rối bời những nốt hương tổng thể mà cô mang. Mãi đến sau này, tôi mới biết sự phiêu bồng ấy nhờ tông vị của Xạ hương cùng Len cashmeran cấu thành nên. Cùng với nét dịu dàng rất đỗi nên thơ của Hoa diên vĩ cộng hưởng cùng Hoa hồng, những ai ban đầu nói “không\" thì chắc chắn sẽ rất hối hận khi Flowerbomb Dew Viktor & Rolf cuối cùng cũng tung ra tầng tầng lớp lớp những đóa hoa nở rộ khi về sau.\n",
      "Generated Response: ('Dựa trên những mô tả trên, **Versace Pour Homme Dylan Blue** có vẻ là một lựa chọn phù hợp cho nước hoa nam có mùi hương nhẹ nhàng. Nó được mô tả có \"sự mở đầu tinh khiết, trong trẻo của hương nước, Cam Bergamot và Bưởi.\" Mặc dù có những nốt hương nam tính hơn như Tiêu đen và Ambroxan, nhưng tổng thể nó vẫn được đánh giá là \"sạch sẽ, cuốn hút.\"\\n\\nDior Homme Intense có thể không phải là lựa chọn tốt vì nó được mô tả là \"gây nghiện\" và có mùi hương hoa oải hương \"cám dỗ\", phù hợp hơn với những ai thích hương mạnh hơn.\\n', 'Versace Pour Homme Dylan Blue\\nHương đầu: Hương nước, Cam Bergamot Calabria, Quả bưởi, Lá sung Hương giữa: Lá hoa tím, Cây hoắc hương, Tiêu đen, Hương Ambroxan, Giấy cói Hương cuối: Xạ hương, Nhang (Hương), Đậu Tonka, Saffron Nếu như có ai hỏi tôi đã bao giờ bị một ai đó mê hoặc bởi mùi hương hay chưa, có lẽ tôi sẽ không do dự mà nói rằng đã từng, và trong đầu nghĩ ngay đến mùi hương man mát, nam tính được toả ra bởi Versace Pour Homme Dylan Blue. Tôi bị ấn tượng bởi những nốt hương của chai nước hoa này bởi sự mở đầu tinh khiết, trong trẻo của hương nước, Cam Bergamot và Bưởi. Nhưng trái với sự phóng khoáng, tươi mới ấy, Dylan Blue còn hấp dẫn tôi bởi cái sự nam tính của Hương Ambroxan, sự gai góc đầy cá tính của Tiêu đen. Chàng ta còn có thêm cái ấm áp, ngọt ngào của Xạ hương và Đậu tonka. Thứ hương đầy gợi cảm ấy như một cái bẫy ngọt ngào khiến bao con mồi tự sa vào. Bạn biết đó, tôi cũng là một trong số những con mồi bị thu hút bởi thứ hương sạch sẽ, cuốn hút ấy.\\n\\nDior Homme Intense 2011\\nHương Đầu: Hoa Oải Hương (Lavender) Hương giữa: Hoa diên vĩ, Cây vông vang, Quả lê Hương cuối: Cỏ hương bài, Gỗ tuyết tùng Virginia Chắc hẳn bạn đã từng nghe rất nhiều về những mùi hương nước hoa được miêu tả bằng chữ \"đẹp\" dành cho phái nữ, nhưng từ đẹp rất khi khi được dùng cho nước hoa Nam, hẳn bởi phái mạnh không quen dùng từ ngữ đó. Nhưng với rất nhiều người khi tiếp xúc với\\xa0Dior Homme Intense, khái niệm mùi hương \"đẹp\" sẽ được dành tặng cho gã đàn ông này một cách thuyết phục.\\xa0Dior Homme Intense được ví như là một kẻ gây nghiện, gây nghiện với chính người dùng, và lây lan cái \"nghiện\" đó cho cả những người xung quanh. Một ngày mưa gió, lạnh lẽo, tỉnh giấc cùng bầu trời xám xịt đen sì ngoài kia, cách tốt nhất để làm hài lòng bản thân là xịt một shot\\xa0Dior Homme Intense vào cơ thể và đi ngủ tiếp, như thể nó sẽ mang lại sự thư giãn tuyệt đối, bình yên vô điều kiện cho bất kỳ chàng trai nào. Ở khía cạnh gây ấn tượng với phái nữ, mang trong mình mùi hương Lavender đầy sự cám dỗ, tinh tế cùng Hoa diên vĩ và cây vông vang,\\xa0Dior Homme Intense thúc dục và dễ dàng tháo gỡ mọi rào cản một cách diệu kỳ, biến những thứ tưởng lạ mà trở thành quen một cách thú vị. Chàng trai nhà Dior này được nhiều người đặt cho cái biệt danh bảnh trai nhưng khá lười biếng, cũng chính vì vậy mà mọi cô gái đều muốn được chăm sóc và ở bên cạnh để hỗ trợ hết mình cho gã đàn ông đào hoa bẩm sinh này.\\n\\nViktor&Rolf Flowerbomb Dew\\nHương đầu: Lê, Ambrette, Giọt sương, Cam bergamot Hưng giữa: Hoa diên vĩ, Hoa hồng Hương cuối: Xạ hương, Len cashmeran, Hoa vòi voi Đôi khi ta không cần phải cá tính để được nổi bật, hay gợi cảm để được chú ý đến, là phụ nữ, bạn chỉ cần chọn cho mình một mùi hương bạn thích, đúng tâm trạng, giản đơn nhưng đủ khiến bản thân thấy vui. Hay quý giá hơn thảy là tự mình cảm được chất “thơ\" trong mùi hương ấy mà không cần đến bất kỳ sự khen ngợi, ca tụng của ai. Tôi phải thừa nhận mình si mê Flowerbomb Dew Viktor & Rolf ngay từ những giây phút đầu tiên, vẻ lãng đãng, mộng mơ của cô nàng đã khiến tôi phải suy đoán trong rối bời những nốt hương tổng thể mà cô mang. Mãi đến sau này, tôi mới biết sự phiêu bồng ấy nhờ tông vị của Xạ hương cùng Len cashmeran cấu thành nên. Cùng với nét dịu dàng rất đỗi nên thơ của Hoa diên vĩ cộng hưởng cùng Hoa hồng, những ai ban đầu nói “không\" thì chắc chắn sẽ rất hối hận khi Flowerbomb Dew Viktor & Rolf cuối cùng cũng tung ra tầng tầng lớp lớp những đóa hoa nở rộ khi về sau.')\n"
     ]
    }
   ],
   "source": [
    "answer = rag_query(\"nước hoa cho nam mùi hương nhẹ nhàng\")\n",
    "print(\"Generated Response:\", answer)"
   ]
  },
  {
   "cell_type": "code",
   "execution_count": null,
   "metadata": {},
   "outputs": [],
   "source": []
  }
 ],
 "metadata": {
  "kernelspec": {
   "display_name": "Python 3",
   "language": "python",
   "name": "python3"
  },
  "language_info": {
   "codemirror_mode": {
    "name": "ipython",
    "version": 3
   },
   "file_extension": ".py",
   "mimetype": "text/x-python",
   "name": "python",
   "nbconvert_exporter": "python",
   "pygments_lexer": "ipython3",
   "version": "3.11.8"
  }
 },
 "nbformat": 4,
 "nbformat_minor": 2
}
