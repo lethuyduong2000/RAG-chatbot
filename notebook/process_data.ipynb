{
 "cells": [
  {
   "cell_type": "code",
   "execution_count": 2,
   "metadata": {},
   "outputs": [
    {
     "name": "stderr",
     "output_type": "stream",
     "text": [
      "/Library/Frameworks/Python.framework/Versions/3.11/lib/python3.11/site-packages/tqdm/auto.py:21: TqdmWarning: IProgress not found. Please update jupyter and ipywidgets. See https://ipywidgets.readthedocs.io/en/stable/user_install.html\n",
      "  from .autonotebook import tqdm as notebook_tqdm\n"
     ]
    }
   ],
   "source": [
    "import pandas as pd\n",
    "import logging\n",
    "import ast\n",
    "import numpy as np\n",
    "from sentence_transformers import SentenceTransformer"
   ]
  },
  {
   "cell_type": "code",
   "execution_count": 3,
   "metadata": {},
   "outputs": [],
   "source": [
    "pd.set_option('display.max_columns', 100)\n",
    "pd.set_option('display.width', 1000)\n",
    "pd.set_option('max_colwidth', 100)"
   ]
  },
  {
   "cell_type": "code",
   "execution_count": 4,
   "metadata": {},
   "outputs": [],
   "source": [
    "# Configure logging\n",
    "logging.basicConfig(\n",
    "    level=logging.INFO,\n",
    "    format='%(asctime)s - %(levelname)s - %(message)s'\n",
    ")\n",
    "logger = logging.getLogger(__name__)"
   ]
  },
  {
   "cell_type": "code",
   "execution_count": 5,
   "metadata": {},
   "outputs": [],
   "source": [
    "def preprocess_product_data(df: pd.DataFrame) -> pd.DataFrame:\n",
    "    \"\"\"\n",
    "    Preprocess product dataset\n",
    "    \"\"\"\n",
    "    df.fillna('', inplace=True)\n",
    "    df['product_gender'] = df['product_gender'].apply(ast.literal_eval).apply(lambda x: ','.join(x)) \n",
    "    df['product_style'] = df['product_style'].apply(ast.literal_eval).apply(lambda x: ', '.join(x)) \n",
    "    df['product_note'] = df['product_note'].apply(ast.literal_eval).apply(lambda x: ', '.join(x)) \n",
    "    df['combined_text'] = (\n",
    "        df['full_name'].str.strip() + ' ' +\n",
    "        df['product_gender'].str.strip() + ' ' +\n",
    "        df['brand'].str.strip() + ' ' +\n",
    "        df['description'].str.strip() + ' ' +\n",
    "        df['origin'].str.strip() + ' ' +\n",
    "        df['product_style'].str.strip() + ' ' +\n",
    "        df['product_note'].str.strip()\n",
    "    )\n",
    "\n",
    "    numeric_cols = df.drop(['parent_id'], axis=1).dtypes[(df.dtypes=='int64') | (df.dtypes=='float64')].index.values\n",
    "    for col in numeric_cols:\n",
    "        df[col] = pd.to_numeric(df[col], errors='coerce')\n",
    "\n",
    "    df = df[df['price'] >= 0]\n",
    "    df = df[df['product_gender'] != '']\n",
    "    df = df[df['description']!='']    \n",
    "    return df"
   ]
  },
  {
   "cell_type": "code",
   "execution_count": 6,
   "metadata": {},
   "outputs": [
    {
     "name": "stderr",
     "output_type": "stream",
     "text": [
      "2025-03-13 03:34:41,986 - INFO - Loading datasets...\n"
     ]
    },
    {
     "name": "stdout",
     "output_type": "stream",
     "text": [
      "(1538, 25)\n"
     ]
    },
    {
     "data": {
      "text/html": [
       "<div>\n",
       "<style scoped>\n",
       "    .dataframe tbody tr th:only-of-type {\n",
       "        vertical-align: middle;\n",
       "    }\n",
       "\n",
       "    .dataframe tbody tr th {\n",
       "        vertical-align: top;\n",
       "    }\n",
       "\n",
       "    .dataframe thead th {\n",
       "        text-align: right;\n",
       "    }\n",
       "</style>\n",
       "<table border=\"1\" class=\"dataframe\">\n",
       "  <thead>\n",
       "    <tr style=\"text-align: right;\">\n",
       "      <th></th>\n",
       "      <th>id</th>\n",
       "      <th>name</th>\n",
       "      <th>full_name</th>\n",
       "      <th>parent_handle</th>\n",
       "      <th>sku</th>\n",
       "      <th>production_year</th>\n",
       "      <th>origin</th>\n",
       "      <th>price</th>\n",
       "      <th>compare_at_price</th>\n",
       "      <th>parent_id</th>\n",
       "      <th>total_quantity</th>\n",
       "      <th>sold_quantity</th>\n",
       "      <th>brand</th>\n",
       "      <th>product_gender</th>\n",
       "      <th>product_style</th>\n",
       "      <th>product_note</th>\n",
       "      <th>rate</th>\n",
       "      <th>count_rate</th>\n",
       "      <th>count_rate_1</th>\n",
       "      <th>count_rate_2</th>\n",
       "      <th>count_rate_3</th>\n",
       "      <th>count_rate_4</th>\n",
       "      <th>count_rate_5</th>\n",
       "      <th>description</th>\n",
       "      <th>combined_text</th>\n",
       "    </tr>\n",
       "  </thead>\n",
       "  <tbody>\n",
       "    <tr>\n",
       "      <th>0</th>\n",
       "      <td>1003772321</td>\n",
       "      <td>Dsquared2 Icon Pour Homme</td>\n",
       "      <td>Dsquared2 Icon Pour Homme - 100ml Tester</td>\n",
       "      <td>dsquared2-icon-pour-homme</td>\n",
       "      <td>110100204700</td>\n",
       "      <td>2024</td>\n",
       "      <td>Ý</td>\n",
       "      <td>2200000</td>\n",
       "      <td>0</td>\n",
       "      <td>1003772317</td>\n",
       "      <td>0</td>\n",
       "      <td>0</td>\n",
       "      <td>DSQUARED2</td>\n",
       "      <td>Nam</td>\n",
       "      <td>Tinh tế, Nam tính, Cuốn hút</td>\n",
       "      <td>Hương gừng, Cây xô thơm</td>\n",
       "      <td>0.0</td>\n",
       "      <td>0</td>\n",
       "      <td>0</td>\n",
       "      <td>0</td>\n",
       "      <td>0</td>\n",
       "      <td>0</td>\n",
       "      <td>0</td>\n",
       "      <td>Hương đầu: Gừng, Cam chanh Hương giữa: Hoa tulip, Xô thơm, Phong lữ, Oải hương Hương cuối: Akiga...</td>\n",
       "      <td>Dsquared2 Icon Pour Homme - 100ml Tester Nam DSQUARED2 Hương đầu: Gừng, Cam chanh Hương giữa: Ho...</td>\n",
       "    </tr>\n",
       "  </tbody>\n",
       "</table>\n",
       "</div>"
      ],
      "text/plain": [
       "           id                       name                                 full_name              parent_handle           sku  production_year origin    price  compare_at_price   parent_id  total_quantity  sold_quantity      brand product_gender                product_style             product_note  rate  count_rate  count_rate_1  count_rate_2  count_rate_3  count_rate_4  count_rate_5                                                                                          description                                                                                        combined_text\n",
       "0  1003772321  Dsquared2 Icon Pour Homme  Dsquared2 Icon Pour Homme - 100ml Tester  dsquared2-icon-pour-homme  110100204700             2024      Ý  2200000                 0  1003772317               0              0  DSQUARED2            Nam  Tinh tế, Nam tính, Cuốn hút  Hương gừng, Cây xô thơm   0.0           0             0             0             0             0             0  Hương đầu: Gừng, Cam chanh Hương giữa: Hoa tulip, Xô thơm, Phong lữ, Oải hương Hương cuối: Akiga...  Dsquared2 Icon Pour Homme - 100ml Tester Nam DSQUARED2 Hương đầu: Gừng, Cam chanh Hương giữa: Ho..."
      ]
     },
     "execution_count": 6,
     "metadata": {},
     "output_type": "execute_result"
    }
   ],
   "source": [
    "logger.info(\"Loading datasets...\")\n",
    "df = pd.read_csv('../data/namperfume_product.csv')\n",
    "processed = preprocess_product_data(df)\n",
    "print(processed.shape)\n",
    "processed.head(1)"
   ]
  },
  {
   "cell_type": "code",
   "execution_count": 7,
   "metadata": {},
   "outputs": [],
   "source": [
    "def create_product_embeddings(df: pd.DataFrame, model_name: str = \"all-MiniLM-L6-v2\") -> np.ndarray:\n",
    "    \"\"\"\n",
    "    Create embeddings for product descriptions\n",
    "    \"\"\"\n",
    "    logger.info(f\"Creating embeddings using {model_name}...\")\n",
    "    \n",
    "    model = SentenceTransformer(model_name)\n",
    "    texts = df.apply(\n",
    "        lambda x: f\"{x['combined_text']}\", \n",
    "        axis=1\n",
    "    ).tolist()\n",
    "    embeddings = model.encode(texts,show_progress_bar=True,batch_size=32)\n",
    "    \n",
    "    return embeddings"
   ]
  },
  {
   "cell_type": "code",
   "execution_count": 8,
   "metadata": {},
   "outputs": [
    {
     "name": "stderr",
     "output_type": "stream",
     "text": [
      "2025-03-13 03:35:05,124 - INFO - Anonymized telemetry enabled. See                     https://docs.trychroma.com/telemetry for more information.\n",
      "2025-03-13 03:35:05,259 - INFO - Creating embeddings using all-MiniLM-L6-v2...\n",
      "2025-03-13 03:35:05,301 - INFO - Use pytorch device_name: mps\n",
      "2025-03-13 03:35:05,301 - INFO - Load pretrained SentenceTransformer: all-MiniLM-L6-v2\n",
      "Batches: 100%|██████████| 49/49 [00:10<00:00,  4.77it/s]\n"
     ]
    },
    {
     "name": "stdout",
     "output_type": "stream",
     "text": [
      "Stored 1538 documents in ChromaDB.\n"
     ]
    }
   ],
   "source": [
    "import chromadb\n",
    "\n",
    "chroma_client = chromadb.PersistentClient(path=\"chroma_db\")\n",
    "\n",
    "collection = chroma_client.get_or_create_collection(name=\"documents\")\n",
    "\n",
    "processed_list = processed.to_dict(orient=\"records\")\n",
    "embed = create_product_embeddings(processed).tolist()\n",
    "for i, product in enumerate(processed_list):\n",
    "    collection.add(\n",
    "        ids=[str(product['id'])],  \n",
    "        embeddings=[embed[i]],\n",
    "        metadatas=[{\n",
    "            \"name\": product[\"name\"],\n",
    "            \"description\": product[\"description\"],\n",
    "            \"production_year\": product[\"production_year\"],\n",
    "            'origin': product['origin'], \n",
    "            'price': product['price'], \n",
    "            'compare_at_price': product['compare_at_price'], \n",
    "            'sold_quantity': product['sold_quantity'],\n",
    "            'brand': product['brand'],\n",
    "            'product_gender': product['product_gender'], \n",
    "            'product_note': product['product_note'], \n",
    "            'rate': product['rate'], \n",
    "            'count_rate': product['count_rate'], \n",
    "            'count_rate_1': product['count_rate_1'], \n",
    "            'count_rate_2': product['count_rate_2'], \n",
    "            'count_rate_3': product['count_rate_3'],\n",
    "            'count_rate_4': product['count_rate_4'],\n",
    "            'count_rate_5': product['count_rate_5']\n",
    "            \n",
    "            }]\n",
    "    )\n",
    "\n",
    "print(f\"Stored {collection.count()} documents in ChromaDB.\")\n"
   ]
  },
  {
   "cell_type": "code",
   "execution_count": 19,
   "metadata": {},
   "outputs": [],
   "source": [
    "import google.generativeai as genai\n",
    "import os\n",
    "\n",

    "GEMINI_API_KEY = os.getenv(\"GEMINI_API_KEY\")\n",
    "genai.configure(api_key=GEMINI_API_KEY)"

   ]
  },
  {
   "cell_type": "code",
   "execution_count": 14,
   "metadata": {},
   "outputs": [],
   "source": [
    "def rag_query(question):\n",
    "    model = SentenceTransformer('all-MiniLM-L6-v2')\n",
    "    query_embedding = model.encode([question], convert_to_tensor=True).tolist()\n",
    "\n",
    "    results = collection.query(\n",
    "        query_embeddings=query_embedding,\n",
    "        n_results=3  \n",
    "    )\n",
    "    context = \"\\n\\n\".join(['\\n'.join([res['name'],res[\"description\"]]) for res in results[\"metadatas\"][0]])\n",
    "    \n",
    "    prompt = f\"Using the following context:\\n{context}\\nAnswer the question: {question}\"\n",
    "    response = genai.GenerativeModel(\"gemini-2.0-flash\").generate_content(prompt)\n",
    "\n",
    "    return response.text\n",
    "\n",
    "\n",
    "\n"
   ]
  },
  {
   "cell_type": "code",
   "execution_count": 20,
   "metadata": {},
   "outputs": [
    {
     "name": "stderr",
     "output_type": "stream",
     "text": [
      "2025-03-13 04:00:31,841 - INFO - Use pytorch device_name: mps\n",
      "2025-03-13 04:00:31,843 - INFO - Load pretrained SentenceTransformer: all-MiniLM-L6-v2\n",
      "Batches: 100%|██████████| 1/1 [00:00<00:00, 78.59it/s]\n"
     ]
    },
    {
     "name": "stdout",
     "output_type": "stream",
     "text": [
      "Generated Response: Dựa trên đoạn văn bạn cung cấp, có vẻ như bạn đang hỏi về các nốt hương của cả hai phiên bản Bleu de Chanel: EDT (Eau de Toilette) và EDP (Eau de Parfum). Dưới đây là chi tiết:\n",
      "\n",
      "**Bleu de Chanel (Eau de Toilette):**\n",
      "\n",
      "*   **Hương đầu:** Quả bưởi, Quả chanh vàng, Bạc hà, Tiêu hồng.\n",
      "*   **Hương giữa:** Gừng, Nhục đậu khấu, Hoa nhài, Iso E Super.\n",
      "*   **Hương cuối:** Nhang, Cỏ hương bài, Gỗ tuyết tùng, Gỗ đàn hương, Hoắc hương, Nhựa hương Labdanum, Xạ hương trắng.\n",
      "\n",
      "**Bleu de Chanel Eau de Parfum:**\n",
      "\n",
      "*   **Hương đầu:** Quả bưởi, Quả chanh vàng, Bạc hà, Tiêu hồng, Cam Bergamot, Aldehydes, Hạt rau mùi.\n",
      "*   **Hương giữa:** Gừng, Nhục đậu khấu, Hoa nhài, Quả dưa.\n",
      "*   **Hương cuối:** Nhang, Nhựa hổ phách, Gỗ tuyết tùng, Gỗ đàn hương, Hoắc hương, Nhựa Labdanum, Nhựa Hổ phách.\n"
     ]
    }
   ],
   "source": [
    "# Example query\n",
    "answer = rag_query(\"Nốt hương của Bleu Channel?\")\n",
    "print(\"Generated Response:\", answer)"
   ]
  }
 ],
 "metadata": {
  "kernelspec": {
   "display_name": "Python 3",
   "language": "python",
   "name": "python3"
  },
  "language_info": {
   "codemirror_mode": {
    "name": "ipython",
    "version": 3
   },
   "file_extension": ".py",
   "mimetype": "text/x-python",
   "name": "python",
   "nbconvert_exporter": "python",
   "pygments_lexer": "ipython3",
   "version": "3.11.6"
  }
 },
 "nbformat": 4,
 "nbformat_minor": 2
}
