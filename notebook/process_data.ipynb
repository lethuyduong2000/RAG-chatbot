{
 "cells": [
  {
   "cell_type": "code",
   "execution_count": 1,
   "metadata": {},
   "outputs": [
    {
     "name": "stderr",
     "output_type": "stream",
     "text": [
      "/Library/Frameworks/Python.framework/Versions/3.11/lib/python3.11/site-packages/tqdm/auto.py:21: TqdmWarning: IProgress not found. Please update jupyter and ipywidgets. See https://ipywidgets.readthedocs.io/en/stable/user_install.html\n",
      "  from .autonotebook import tqdm as notebook_tqdm\n"
     ]
    }
   ],
   "source": [
    "import pandas as pd\n",
    "import numpy as np\n",
    "\n",
    "import logging\n",
    "import ast\n",
    "\n",
    "from sentence_transformers import SentenceTransformer\n",
    "from chromadb.utils.embedding_functions import SentenceTransformerEmbeddingFunction\n"
   ]
  },
  {
   "cell_type": "code",
   "execution_count": 2,
   "metadata": {},
   "outputs": [],
   "source": [
    "pd.set_option('display.max_columns', 100)\n",
    "pd.set_option('display.width', 1000)\n",
    "pd.set_option('max_colwidth', 100)"
   ]
  },
  {
   "cell_type": "code",
   "execution_count": 3,
   "metadata": {},
   "outputs": [],
   "source": [
    "# Configure logging\n",
    "logging.basicConfig(\n",
    "    level=logging.INFO,\n",
    "    format='%(asctime)s - %(levelname)s - %(message)s'\n",
    ")\n",
    "logger = logging.getLogger(__name__)"
   ]
  },
  {
   "cell_type": "code",
   "execution_count": 4,
   "metadata": {},
   "outputs": [],
   "source": [
    "EMBEDDING_MODEL =  'paraphrase-multilingual-mpnet-base-v2'"
   ]
  },
  {
   "cell_type": "code",
   "execution_count": 5,
   "metadata": {},
   "outputs": [],
   "source": [
    "def preprocess_product_data(df: pd.DataFrame) -> pd.DataFrame:\n",
    "    \"\"\"\n",
    "    Preprocess product dataset\n",
    "    \"\"\"\n",
    "    df.fillna('', inplace=True)\n",
    "    df['product_gender'] = df['product_gender'].apply(ast.literal_eval).apply(lambda x: ','.join(x)) \n",
    "    df['product_style'] = df['product_style'].apply(ast.literal_eval).apply(lambda x: ', '.join(x)) \n",
    "    df['product_note'] = df['product_note'].apply(ast.literal_eval).apply(lambda x: ', '.join(x)) \n",
    "    df['combined_text'] = (\n",
    "        df['full_name'].str.strip() + ' ' +\n",
    "        df['product_gender'].str.strip() + ' ' +\n",
    "        df['brand'].str.strip() + ' ' +\n",
    "        df['description'].str.strip() + ' ' +\n",
    "        df['origin'].str.strip() + ' ' +\n",
    "        df['product_style'].str.strip() + ' ' +\n",
    "        df['product_note'].str.strip()\n",
    "    )\n",
    "\n",
    "    numeric_cols = df.drop(['parent_id'], axis=1).dtypes[(df.dtypes=='int64') | (df.dtypes=='float64')].index.values\n",
    "    for col in numeric_cols:\n",
    "        df[col] = pd.to_numeric(df[col], errors='coerce')\n",
    "\n",
    "    df = df[df['price'] >= 0]\n",
    "    df = df[df['product_gender'] != '']\n",
    "    df = df[df['description']!='']    \n",
    "    return df"
   ]
  },
  {
   "cell_type": "code",
   "execution_count": 6,
   "metadata": {},
   "outputs": [
    {
     "name": "stderr",
     "output_type": "stream",
     "text": [
      "2025-03-18 21:59:00,847 - INFO - Loading datasets...\n"
     ]
    },
    {
     "name": "stdout",
     "output_type": "stream",
     "text": [
      "(1538, 25)\n"
     ]
    },
    {
     "data": {
      "text/html": [
       "<div>\n",
       "<style scoped>\n",
       "    .dataframe tbody tr th:only-of-type {\n",
       "        vertical-align: middle;\n",
       "    }\n",
       "\n",
       "    .dataframe tbody tr th {\n",
       "        vertical-align: top;\n",
       "    }\n",
       "\n",
       "    .dataframe thead th {\n",
       "        text-align: right;\n",
       "    }\n",
       "</style>\n",
       "<table border=\"1\" class=\"dataframe\">\n",
       "  <thead>\n",
       "    <tr style=\"text-align: right;\">\n",
       "      <th></th>\n",
       "      <th>id</th>\n",
       "      <th>name</th>\n",
       "      <th>full_name</th>\n",
       "      <th>parent_handle</th>\n",
       "      <th>sku</th>\n",
       "      <th>production_year</th>\n",
       "      <th>origin</th>\n",
       "      <th>price</th>\n",
       "      <th>compare_at_price</th>\n",
       "      <th>parent_id</th>\n",
       "      <th>total_quantity</th>\n",
       "      <th>sold_quantity</th>\n",
       "      <th>brand</th>\n",
       "      <th>product_gender</th>\n",
       "      <th>product_style</th>\n",
       "      <th>product_note</th>\n",
       "      <th>rate</th>\n",
       "      <th>count_rate</th>\n",
       "      <th>count_rate_1</th>\n",
       "      <th>count_rate_2</th>\n",
       "      <th>count_rate_3</th>\n",
       "      <th>count_rate_4</th>\n",
       "      <th>count_rate_5</th>\n",
       "      <th>description</th>\n",
       "      <th>combined_text</th>\n",
       "    </tr>\n",
       "  </thead>\n",
       "  <tbody>\n",
       "    <tr>\n",
       "      <th>0</th>\n",
       "      <td>1003772321</td>\n",
       "      <td>Dsquared2 Icon Pour Homme</td>\n",
       "      <td>Dsquared2 Icon Pour Homme - 100ml Tester</td>\n",
       "      <td>dsquared2-icon-pour-homme</td>\n",
       "      <td>110100204700</td>\n",
       "      <td>2024</td>\n",
       "      <td>Ý</td>\n",
       "      <td>2200000</td>\n",
       "      <td>0</td>\n",
       "      <td>1003772317</td>\n",
       "      <td>0</td>\n",
       "      <td>0</td>\n",
       "      <td>DSQUARED2</td>\n",
       "      <td>Nam</td>\n",
       "      <td>Tinh tế, Nam tính, Cuốn hút</td>\n",
       "      <td>Hương gừng, Cây xô thơm</td>\n",
       "      <td>0.0</td>\n",
       "      <td>0</td>\n",
       "      <td>0</td>\n",
       "      <td>0</td>\n",
       "      <td>0</td>\n",
       "      <td>0</td>\n",
       "      <td>0</td>\n",
       "      <td>Hương đầu: Gừng, Cam chanh Hương giữa: Hoa tulip, Xô thơm, Phong lữ, Oải hương Hương cuối: Akiga...</td>\n",
       "      <td>Dsquared2 Icon Pour Homme - 100ml Tester Nam DSQUARED2 Hương đầu: Gừng, Cam chanh Hương giữa: Ho...</td>\n",
       "    </tr>\n",
       "  </tbody>\n",
       "</table>\n",
       "</div>"
      ],
      "text/plain": [
       "           id                       name                                 full_name              parent_handle           sku  production_year origin    price  compare_at_price   parent_id  total_quantity  sold_quantity      brand product_gender                product_style             product_note  rate  count_rate  count_rate_1  count_rate_2  count_rate_3  count_rate_4  count_rate_5                                                                                          description                                                                                        combined_text\n",
       "0  1003772321  Dsquared2 Icon Pour Homme  Dsquared2 Icon Pour Homme - 100ml Tester  dsquared2-icon-pour-homme  110100204700             2024      Ý  2200000                 0  1003772317               0              0  DSQUARED2            Nam  Tinh tế, Nam tính, Cuốn hút  Hương gừng, Cây xô thơm   0.0           0             0             0             0             0             0  Hương đầu: Gừng, Cam chanh Hương giữa: Hoa tulip, Xô thơm, Phong lữ, Oải hương Hương cuối: Akiga...  Dsquared2 Icon Pour Homme - 100ml Tester Nam DSQUARED2 Hương đầu: Gừng, Cam chanh Hương giữa: Ho..."
      ]
     },
     "execution_count": 6,
     "metadata": {},
     "output_type": "execute_result"
    }
   ],
   "source": [
    "logger.info(\"Loading datasets...\")\n",
    "df = pd.read_csv('../data/namperfume_product.csv')\n",
    "processed = preprocess_product_data(df)\n",
    "print(processed.shape)\n",
    "processed.head(1)"
   ]
  },
  {
   "cell_type": "code",
   "execution_count": 7,
   "metadata": {},
   "outputs": [],
   "source": [
    "def create_product_embeddings(df: pd.DataFrame, model_name: str = EMBEDDING_MODEL) -> np.ndarray:\n",
    "    \"\"\"\n",
    "    Create embeddings for product descriptions\n",
    "    \"\"\"\n",
    "    logger.info(f\"Creating embeddings using {model_name}...\")\n",
    "    \n",
    "    model = SentenceTransformer(model_name)\n",
    "    texts = df.apply(\n",
    "        lambda x: f\"{x['combined_text']}\", \n",
    "        axis=1\n",
    "    ).tolist()\n",
    "    embeddings = model.encode(texts,show_progress_bar=True,batch_size=32)\n",
    "    \n",
    "    return embeddings"
   ]
  },
  {
   "cell_type": "code",
   "execution_count": 8,
   "metadata": {},
   "outputs": [
    {
     "name": "stderr",
     "output_type": "stream",
     "text": [
      "2025-03-18 21:59:17,691 - INFO - Anonymized telemetry enabled. See                     https://docs.trychroma.com/telemetry for more information.\n"
     ]
    },
    {
     "name": "stderr",
     "output_type": "stream",
     "text": [
      "2025-03-18 21:59:17,868 - INFO - Creating embeddings using paraphrase-multilingual-mpnet-base-v2...\n",
      "2025-03-18 21:59:17,910 - INFO - Use pytorch device_name: mps\n",
      "2025-03-18 21:59:17,911 - INFO - Load pretrained SentenceTransformer: paraphrase-multilingual-mpnet-base-v2\n",
      "Batches: 100%|██████████| 49/49 [00:51<00:00,  1.06s/it]\n"
     ]
    },
    {
     "name": "stdout",
     "output_type": "stream",
     "text": [
      "Stored 1538 documents in ChromaDB.\n"
     ]
    }
   ],
   "source": [
    "import chromadb\n",
    "\n",
    "chroma_client = chromadb.PersistentClient(path=\"chroma_db_v1\")\n",
    "collection = chroma_client.get_or_create_collection(name=\"new_documents\")\n",
    "\n",
    "processed_list = processed.to_dict(orient=\"records\")\n",
    "embed = create_product_embeddings(processed).tolist()\n",
    "for i, product in enumerate(processed_list):\n",
    "    collection.add(\n",
    "        ids=[str(product['id'])],  \n",
    "        embeddings=[embed[i]],\n",
    "        metadatas=[{\n",
    "            \"name\": product[\"name\"],\n",
    "            \"description\": product[\"description\"],\n",
    "            \"product_style\": product['product_style'],\n",
    "            \"production_year\": product[\"production_year\"],\n",
    "            'origin': product['origin'], \n",
    "            'price': product['price'], \n",
    "            'compare_at_price': product['compare_at_price'], \n",
    "            'sold_quantity': product['sold_quantity'],\n",
    "            'brand': product['brand'],\n",
    "            'product_gender': product['product_gender'], \n",
    "            'product_note': product['product_note'], \n",
    "            'rate': product['rate'], \n",
    "            'count_rate': product['count_rate'], \n",
    "            'count_rate_1': product['count_rate_1'], \n",
    "            'count_rate_2': product['count_rate_2'], \n",
    "            'count_rate_3': product['count_rate_3'],\n",
    "            'count_rate_4': product['count_rate_4'],\n",
    "            'count_rate_5': product['count_rate_5']\n",
    "            \n",
    "            }]\n",
    "    )\n",
    "\n",
    "print(f\"Stored {collection.count()} documents in ChromaDB.\")\n"
   ]
  },
  {
   "cell_type": "code",
   "execution_count": 9,
   "metadata": {},
   "outputs": [],
   "source": [
    "import google.generativeai as genai\n",
    "import os\n",
    "from dotenv import load_dotenv\n",
    "\n",
    "# Load variables from .env file\n",
    "load_dotenv()\n",
    "\n",
    "GEMINI_API_KEY = os.getenv(\"GEMINI_API_KEY\")\n",
    "genai.configure(api_key=GEMINI_API_KEY)"
   ]
  },
  {
   "cell_type": "code",
   "execution_count": 16,
   "metadata": {},
   "outputs": [],
   "source": [
    "def rag_query(question):\n",
    "    model = SentenceTransformer(EMBEDDING_MODEL)\n",
    "    query_embedding = model.encode([question], convert_to_tensor=True).tolist()\n",
    "\n",
    "    results = collection.query(\n",
    "        query_embeddings=query_embedding,\n",
    "        n_results=3  \n",
    "    )\n",
    "    context = \"\\n\\n\".join(['\\n'.join([res['name'],res['product_gender'], res[\"description\"]]) for res in results[\"metadatas\"][0]])\n",
    "    print(f'=== context === \\n {context}')\n",
    "    prompt = f\"Using the following context:\\n{context}\\nAnswer the question: {question}\"\n",
    "    response = genai.GenerativeModel(\"gemini-2.0-flash\").generate_content(prompt)\n",
    "\n",
    "    return response.text"
   ]
  },
  {
   "cell_type": "markdown",
   "metadata": {},
   "source": [
    "Test query"
   ]
  },
  {
   "cell_type": "code",
   "execution_count": 17,
   "metadata": {},
   "outputs": [
    {
     "name": "stderr",
     "output_type": "stream",
     "text": [
      "2025-03-19 10:14:55,014 - INFO - Use pytorch device_name: mps\n",
      "2025-03-19 10:14:55,016 - INFO - Load pretrained SentenceTransformer: paraphrase-multilingual-mpnet-base-v2\n",
      "Batches: 100%|██████████| 1/1 [00:00<00:00,  8.83it/s]\n"
     ]
    },
    {
     "name": "stdout",
     "output_type": "stream",
     "text": [
      "=== context === \n",
      " Versace Pour Homme Dylan Blue\n",
      "Nam\n",
      "Hương đầu: Hương nước, Cam Bergamot Calabria, Quả bưởi, Lá sung Hương giữa: Lá hoa tím, Cây hoắc hương, Tiêu đen, Hương Ambroxan, Giấy cói Hương cuối: Xạ hương, Nhang (Hương), Đậu Tonka, Saffron Nếu như có ai hỏi tôi đã bao giờ bị một ai đó mê hoặc bởi mùi hương hay chưa, có lẽ tôi sẽ không do dự mà nói rằng đã từng, và trong đầu nghĩ ngay đến mùi hương man mát, nam tính được toả ra bởi Versace Pour Homme Dylan Blue. Tôi bị ấn tượng bởi những nốt hương của chai nước hoa này bởi sự mở đầu tinh khiết, trong trẻo của hương nước, Cam Bergamot và Bưởi. Nhưng trái với sự phóng khoáng, tươi mới ấy, Dylan Blue còn hấp dẫn tôi bởi cái sự nam tính của Hương Ambroxan, sự gai góc đầy cá tính của Tiêu đen. Chàng ta còn có thêm cái ấm áp, ngọt ngào của Xạ hương và Đậu tonka. Thứ hương đầy gợi cảm ấy như một cái bẫy ngọt ngào khiến bao con mồi tự sa vào. Bạn biết đó, tôi cũng là một trong số những con mồi bị thu hút bởi thứ hương sạch sẽ, cuốn hút ấy.\n",
      "\n",
      "Dior Homme Intense 2011\n",
      "Nam\n",
      "Hương Đầu: Hoa Oải Hương (Lavender) Hương giữa: Hoa diên vĩ, Cây vông vang, Quả lê Hương cuối: Cỏ hương bài, Gỗ tuyết tùng Virginia Chắc hẳn bạn đã từng nghe rất nhiều về những mùi hương nước hoa được miêu tả bằng chữ \"đẹp\" dành cho phái nữ, nhưng từ đẹp rất khi khi được dùng cho nước hoa Nam, hẳn bởi phái mạnh không quen dùng từ ngữ đó. Nhưng với rất nhiều người khi tiếp xúc với Dior Homme Intense, khái niệm mùi hương \"đẹp\" sẽ được dành tặng cho gã đàn ông này một cách thuyết phục. Dior Homme Intense được ví như là một kẻ gây nghiện, gây nghiện với chính người dùng, và lây lan cái \"nghiện\" đó cho cả những người xung quanh. Một ngày mưa gió, lạnh lẽo, tỉnh giấc cùng bầu trời xám xịt đen sì ngoài kia, cách tốt nhất để làm hài lòng bản thân là xịt một shot Dior Homme Intense vào cơ thể và đi ngủ tiếp, như thể nó sẽ mang lại sự thư giãn tuyệt đối, bình yên vô điều kiện cho bất kỳ chàng trai nào. Ở khía cạnh gây ấn tượng với phái nữ, mang trong mình mùi hương Lavender đầy sự cám dỗ, tinh tế cùng Hoa diên vĩ và cây vông vang, Dior Homme Intense thúc dục và dễ dàng tháo gỡ mọi rào cản một cách diệu kỳ, biến những thứ tưởng lạ mà trở thành quen một cách thú vị. Chàng trai nhà Dior này được nhiều người đặt cho cái biệt danh bảnh trai nhưng khá lười biếng, cũng chính vì vậy mà mọi cô gái đều muốn được chăm sóc và ở bên cạnh để hỗ trợ hết mình cho gã đàn ông đào hoa bẩm sinh này.\n",
      "\n",
      "Viktor&Rolf Flowerbomb Dew\n",
      "Nữ\n",
      "Hương đầu: Lê, Ambrette, Giọt sương, Cam bergamot Hưng giữa: Hoa diên vĩ, Hoa hồng Hương cuối: Xạ hương, Len cashmeran, Hoa vòi voi Đôi khi ta không cần phải cá tính để được nổi bật, hay gợi cảm để được chú ý đến, là phụ nữ, bạn chỉ cần chọn cho mình một mùi hương bạn thích, đúng tâm trạng, giản đơn nhưng đủ khiến bản thân thấy vui. Hay quý giá hơn thảy là tự mình cảm được chất “thơ\" trong mùi hương ấy mà không cần đến bất kỳ sự khen ngợi, ca tụng của ai. Tôi phải thừa nhận mình si mê Flowerbomb Dew Viktor & Rolf ngay từ những giây phút đầu tiên, vẻ lãng đãng, mộng mơ của cô nàng đã khiến tôi phải suy đoán trong rối bời những nốt hương tổng thể mà cô mang. Mãi đến sau này, tôi mới biết sự phiêu bồng ấy nhờ tông vị của Xạ hương cùng Len cashmeran cấu thành nên. Cùng với nét dịu dàng rất đỗi nên thơ của Hoa diên vĩ cộng hưởng cùng Hoa hồng, những ai ban đầu nói “không\" thì chắc chắn sẽ rất hối hận khi Flowerbomb Dew Viktor & Rolf cuối cùng cũng tung ra tầng tầng lớp lớp những đóa hoa nở rộ khi về sau.\n",
      "Generated Response: Dựa trên thông tin được cung cấp, **Versace Pour Homme Dylan Blue** là một lựa chọn phù hợp cho nước hoa nam có mùi hương nhẹ nhàng. Mặc dù có sự nam tính từ Ambroxan và tiêu đen, nhưng nó vẫn được mô tả là \"man mát\", \"tinh khiết, trong trẻo\" với hương nước, cam Bergamot và bưởi.\n",
      "\n"
     ]
    }
   ],
   "source": [
    "answer = rag_query(\"nước hoa cho nam mùi hương nhẹ nhàng\")\n",
    "print(\"Generated Response:\", answer)"
   ]
  },
  {
   "cell_type": "code",
   "execution_count": null,
   "metadata": {},
   "outputs": [],
   "source": [
    "from FlagEmbedding import FlagReranker"
   ]
  },
  {
   "cell_type": "code",
   "execution_count": 25,
   "metadata": {},
   "outputs": [],
   "source": [
    "query = \"nước hoa cho nam mùi hương nhẹ nhàng\""
   ]
  },
  {
   "cell_type": "code",
   "execution_count": null,
   "metadata": {},
   "outputs": [
    {
     "name": "stderr",
     "output_type": "stream",
     "text": [
      "2025-03-19 17:00:39,258 - INFO - Use pytorch device_name: mps\n",
      "2025-03-19 17:00:39,259 - INFO - Load pretrained SentenceTransformer: paraphrase-multilingual-mpnet-base-v2\n",
      "Batches: 100%|██████████| 1/1 [00:00<00:00, 10.42it/s]\n"
     ]
    },
    {
     "ename": "ValueError",
     "evalue": "text input must be of type `str` (single example), `List[str]` (batch or single pretokenized example) or `List[List[str]]` (batch of pretokenized examples).",
     "output_type": "error",
     "traceback": [
      "\u001b[31m---------------------------------------------------------------------------\u001b[39m",
      "\u001b[31mValueError\u001b[39m                                Traceback (most recent call last)",
      "\u001b[36mCell\u001b[39m\u001b[36m \u001b[39m\u001b[32mIn[56]\u001b[39m\u001b[32m, line 24\u001b[39m\n\u001b[32m     21\u001b[39m \u001b[38;5;66;03m# Chuẩn bị input cho reranker\u001b[39;00m\n\u001b[32m     22\u001b[39m pairs = [(query, [[doc[\u001b[33m'\u001b[39m\u001b[33mname\u001b[39m\u001b[33m'\u001b[39m],doc[\u001b[33m'\u001b[39m\u001b[33mproduct_gender\u001b[39m\u001b[33m'\u001b[39m],doc[\u001b[33m'\u001b[39m\u001b[33mproduct_style\u001b[39m\u001b[33m'\u001b[39m],doc[\u001b[33m\"\u001b[39m\u001b[33mdescription\u001b[39m\u001b[33m\"\u001b[39m]] \u001b[38;5;28;01mfor\u001b[39;00m doc \u001b[38;5;129;01min\u001b[39;00m metadatas[\u001b[32m0\u001b[39m]])]\n\u001b[32m---> \u001b[39m\u001b[32m24\u001b[39m scores = \u001b[43mreranker\u001b[49m\u001b[43m.\u001b[49m\u001b[43mcompute_score\u001b[49m\u001b[43m(\u001b[49m\u001b[43mpairs\u001b[49m\u001b[43m)\u001b[49m\n\u001b[32m     26\u001b[39m \u001b[38;5;66;03m# Sắp xếp theo điểm rerank\u001b[39;00m\n\u001b[32m     27\u001b[39m ranked_results = \u001b[38;5;28msorted\u001b[39m(\u001b[38;5;28mzip\u001b[39m(metadatas, scores), key=\u001b[38;5;28;01mlambda\u001b[39;00m x: x[\u001b[32m2\u001b[39m], reverse=\u001b[38;5;28;01mTrue\u001b[39;00m)\n",
      "\u001b[36mFile \u001b[39m\u001b[32m/Library/Frameworks/Python.framework/Versions/3.11/lib/python3.11/site-packages/FlagEmbedding/abc/inference/AbsReranker.py:215\u001b[39m, in \u001b[36mAbsReranker.compute_score\u001b[39m\u001b[34m(self, sentence_pairs, **kwargs)\u001b[39m\n\u001b[32m    212\u001b[39m sentence_pairs = \u001b[38;5;28mself\u001b[39m.get_detailed_inputs(sentence_pairs)\n\u001b[32m    214\u001b[39m \u001b[38;5;28;01mif\u001b[39;00m \u001b[38;5;28misinstance\u001b[39m(sentence_pairs, \u001b[38;5;28mstr\u001b[39m) \u001b[38;5;129;01mor\u001b[39;00m \u001b[38;5;28mlen\u001b[39m(\u001b[38;5;28mself\u001b[39m.target_devices) == \u001b[32m1\u001b[39m:\n\u001b[32m--> \u001b[39m\u001b[32m215\u001b[39m     \u001b[38;5;28;01mreturn\u001b[39;00m \u001b[38;5;28;43mself\u001b[39;49m\u001b[43m.\u001b[49m\u001b[43mcompute_score_single_gpu\u001b[49m\u001b[43m(\u001b[49m\n\u001b[32m    216\u001b[39m \u001b[43m        \u001b[49m\u001b[43msentence_pairs\u001b[49m\u001b[43m,\u001b[49m\n\u001b[32m    217\u001b[39m \u001b[43m        \u001b[49m\u001b[43mdevice\u001b[49m\u001b[43m=\u001b[49m\u001b[38;5;28;43mself\u001b[39;49m\u001b[43m.\u001b[49m\u001b[43mtarget_devices\u001b[49m\u001b[43m[\u001b[49m\u001b[32;43m0\u001b[39;49m\u001b[43m]\u001b[49m\u001b[43m,\u001b[49m\n\u001b[32m    218\u001b[39m \u001b[43m        \u001b[49m\u001b[43m*\u001b[49m\u001b[43m*\u001b[49m\u001b[43mkwargs\u001b[49m\n\u001b[32m    219\u001b[39m \u001b[43m    \u001b[49m\u001b[43m)\u001b[49m\n\u001b[32m    221\u001b[39m \u001b[38;5;28;01mif\u001b[39;00m \u001b[38;5;28mself\u001b[39m.pool \u001b[38;5;129;01mis\u001b[39;00m \u001b[38;5;28;01mNone\u001b[39;00m:\n\u001b[32m    222\u001b[39m     \u001b[38;5;28mself\u001b[39m.pool = \u001b[38;5;28mself\u001b[39m.start_multi_process_pool()\n",
      "\u001b[36mFile \u001b[39m\u001b[32m/Library/Frameworks/Python.framework/Versions/3.11/lib/python3.11/site-packages/torch/utils/_contextlib.py:116\u001b[39m, in \u001b[36mcontext_decorator.<locals>.decorate_context\u001b[39m\u001b[34m(*args, **kwargs)\u001b[39m\n\u001b[32m    113\u001b[39m \u001b[38;5;129m@functools\u001b[39m.wraps(func)\n\u001b[32m    114\u001b[39m \u001b[38;5;28;01mdef\u001b[39;00m\u001b[38;5;250m \u001b[39m\u001b[34mdecorate_context\u001b[39m(*args, **kwargs):\n\u001b[32m    115\u001b[39m     \u001b[38;5;28;01mwith\u001b[39;00m ctx_factory():\n\u001b[32m--> \u001b[39m\u001b[32m116\u001b[39m         \u001b[38;5;28;01mreturn\u001b[39;00m \u001b[43mfunc\u001b[49m\u001b[43m(\u001b[49m\u001b[43m*\u001b[49m\u001b[43margs\u001b[49m\u001b[43m,\u001b[49m\u001b[43m \u001b[49m\u001b[43m*\u001b[49m\u001b[43m*\u001b[49m\u001b[43mkwargs\u001b[49m\u001b[43m)\u001b[49m\n",
      "\u001b[36mFile \u001b[39m\u001b[32m/Library/Frameworks/Python.framework/Versions/3.11/lib/python3.11/site-packages/FlagEmbedding/inference/reranker/encoder_only/base.py:137\u001b[39m, in \u001b[36mBaseReranker.compute_score_single_gpu\u001b[39m\u001b[34m(self, sentence_pairs, batch_size, query_max_length, max_length, normalize, device, **kwargs)\u001b[39m\n\u001b[32m    128\u001b[39m passages = [s[\u001b[32m1\u001b[39m] \u001b[38;5;28;01mfor\u001b[39;00m s \u001b[38;5;129;01min\u001b[39;00m sentences_batch]\n\u001b[32m    129\u001b[39m queries_inputs_batch = \u001b[38;5;28mself\u001b[39m.tokenizer(\n\u001b[32m    130\u001b[39m     queries,\n\u001b[32m    131\u001b[39m     return_tensors=\u001b[38;5;28;01mNone\u001b[39;00m,\n\u001b[32m   (...)\u001b[39m\u001b[32m    135\u001b[39m     **kwargs\n\u001b[32m    136\u001b[39m )[\u001b[33m'\u001b[39m\u001b[33minput_ids\u001b[39m\u001b[33m'\u001b[39m]\n\u001b[32m--> \u001b[39m\u001b[32m137\u001b[39m passages_inputs_batch = \u001b[38;5;28;43mself\u001b[39;49m\u001b[43m.\u001b[49m\u001b[43mtokenizer\u001b[49m\u001b[43m(\u001b[49m\n\u001b[32m    138\u001b[39m \u001b[43m    \u001b[49m\u001b[43mpassages\u001b[49m\u001b[43m,\u001b[49m\n\u001b[32m    139\u001b[39m \u001b[43m    \u001b[49m\u001b[43mreturn_tensors\u001b[49m\u001b[43m=\u001b[49m\u001b[38;5;28;43;01mNone\u001b[39;49;00m\u001b[43m,\u001b[49m\n\u001b[32m    140\u001b[39m \u001b[43m    \u001b[49m\u001b[43madd_special_tokens\u001b[49m\u001b[43m=\u001b[49m\u001b[38;5;28;43;01mFalse\u001b[39;49;00m\u001b[43m,\u001b[49m\n\u001b[32m    141\u001b[39m \u001b[43m    \u001b[49m\u001b[43mmax_length\u001b[49m\u001b[43m=\u001b[49m\u001b[43mmax_length\u001b[49m\u001b[43m,\u001b[49m\n\u001b[32m    142\u001b[39m \u001b[43m    \u001b[49m\u001b[43mtruncation\u001b[49m\u001b[43m=\u001b[49m\u001b[38;5;28;43;01mTrue\u001b[39;49;00m\u001b[43m,\u001b[49m\n\u001b[32m    143\u001b[39m \u001b[43m    \u001b[49m\u001b[43m*\u001b[49m\u001b[43m*\u001b[49m\u001b[43mkwargs\u001b[49m\n\u001b[32m    144\u001b[39m \u001b[43m\u001b[49m\u001b[43m)\u001b[49m[\u001b[33m'\u001b[39m\u001b[33minput_ids\u001b[39m\u001b[33m'\u001b[39m]\n\u001b[32m    145\u001b[39m \u001b[38;5;28;01mfor\u001b[39;00m q_inp, d_inp \u001b[38;5;129;01min\u001b[39;00m \u001b[38;5;28mzip\u001b[39m(queries_inputs_batch, passages_inputs_batch):\n\u001b[32m    146\u001b[39m     item = \u001b[38;5;28mself\u001b[39m.tokenizer.prepare_for_model(\n\u001b[32m    147\u001b[39m         q_inp,\n\u001b[32m    148\u001b[39m         d_inp,\n\u001b[32m   (...)\u001b[39m\u001b[32m    151\u001b[39m         padding=\u001b[38;5;28;01mFalse\u001b[39;00m,\n\u001b[32m    152\u001b[39m     )\n",
      "\u001b[36mFile \u001b[39m\u001b[32m/Library/Frameworks/Python.framework/Versions/3.11/lib/python3.11/site-packages/transformers/tokenization_utils_base.py:2877\u001b[39m, in \u001b[36mPreTrainedTokenizerBase.__call__\u001b[39m\u001b[34m(self, text, text_pair, text_target, text_pair_target, add_special_tokens, padding, truncation, max_length, stride, is_split_into_words, pad_to_multiple_of, padding_side, return_tensors, return_token_type_ids, return_attention_mask, return_overflowing_tokens, return_special_tokens_mask, return_offsets_mapping, return_length, verbose, **kwargs)\u001b[39m\n\u001b[32m   2875\u001b[39m     \u001b[38;5;28;01mif\u001b[39;00m \u001b[38;5;129;01mnot\u001b[39;00m \u001b[38;5;28mself\u001b[39m._in_target_context_manager:\n\u001b[32m   2876\u001b[39m         \u001b[38;5;28mself\u001b[39m._switch_to_input_mode()\n\u001b[32m-> \u001b[39m\u001b[32m2877\u001b[39m     encodings = \u001b[38;5;28;43mself\u001b[39;49m\u001b[43m.\u001b[49m\u001b[43m_call_one\u001b[49m\u001b[43m(\u001b[49m\u001b[43mtext\u001b[49m\u001b[43m=\u001b[49m\u001b[43mtext\u001b[49m\u001b[43m,\u001b[49m\u001b[43m \u001b[49m\u001b[43mtext_pair\u001b[49m\u001b[43m=\u001b[49m\u001b[43mtext_pair\u001b[49m\u001b[43m,\u001b[49m\u001b[43m \u001b[49m\u001b[43m*\u001b[49m\u001b[43m*\u001b[49m\u001b[43mall_kwargs\u001b[49m\u001b[43m)\u001b[49m\n\u001b[32m   2878\u001b[39m \u001b[38;5;28;01mif\u001b[39;00m text_target \u001b[38;5;129;01mis\u001b[39;00m \u001b[38;5;129;01mnot\u001b[39;00m \u001b[38;5;28;01mNone\u001b[39;00m:\n\u001b[32m   2879\u001b[39m     \u001b[38;5;28mself\u001b[39m._switch_to_target_mode()\n",
      "\u001b[36mFile \u001b[39m\u001b[32m/Library/Frameworks/Python.framework/Versions/3.11/lib/python3.11/site-packages/transformers/tokenization_utils_base.py:2937\u001b[39m, in \u001b[36mPreTrainedTokenizerBase._call_one\u001b[39m\u001b[34m(self, text, text_pair, add_special_tokens, padding, truncation, max_length, stride, is_split_into_words, pad_to_multiple_of, padding_side, return_tensors, return_token_type_ids, return_attention_mask, return_overflowing_tokens, return_special_tokens_mask, return_offsets_mapping, return_length, verbose, split_special_tokens, **kwargs)\u001b[39m\n\u001b[32m   2934\u001b[39m         \u001b[38;5;28;01mreturn\u001b[39;00m \u001b[38;5;28;01mFalse\u001b[39;00m\n\u001b[32m   2936\u001b[39m \u001b[38;5;28;01mif\u001b[39;00m \u001b[38;5;129;01mnot\u001b[39;00m _is_valid_text_input(text):\n\u001b[32m-> \u001b[39m\u001b[32m2937\u001b[39m     \u001b[38;5;28;01mraise\u001b[39;00m \u001b[38;5;167;01mValueError\u001b[39;00m(\n\u001b[32m   2938\u001b[39m         \u001b[33m\"\u001b[39m\u001b[33mtext input must be of type `str` (single example), `List[str]` (batch or single pretokenized example) \u001b[39m\u001b[33m\"\u001b[39m\n\u001b[32m   2939\u001b[39m         \u001b[33m\"\u001b[39m\u001b[33mor `List[List[str]]` (batch of pretokenized examples).\u001b[39m\u001b[33m\"\u001b[39m\n\u001b[32m   2940\u001b[39m     )\n\u001b[32m   2942\u001b[39m \u001b[38;5;28;01mif\u001b[39;00m text_pair \u001b[38;5;129;01mis\u001b[39;00m \u001b[38;5;129;01mnot\u001b[39;00m \u001b[38;5;28;01mNone\u001b[39;00m \u001b[38;5;129;01mand\u001b[39;00m \u001b[38;5;129;01mnot\u001b[39;00m _is_valid_text_input(text_pair):\n\u001b[32m   2943\u001b[39m     \u001b[38;5;28;01mraise\u001b[39;00m \u001b[38;5;167;01mValueError\u001b[39;00m(\n\u001b[32m   2944\u001b[39m         \u001b[33m\"\u001b[39m\u001b[33mtext input must be of type `str` (single example), `List[str]` (batch or single pretokenized example) \u001b[39m\u001b[33m\"\u001b[39m\n\u001b[32m   2945\u001b[39m         \u001b[33m\"\u001b[39m\u001b[33mor `List[List[str]]` (batch of pretokenized examples).\u001b[39m\u001b[33m\"\u001b[39m\n\u001b[32m   2946\u001b[39m     )\n",
      "\u001b[31mValueError\u001b[39m: text input must be of type `str` (single example), `List[str]` (batch or single pretokenized example) or `List[List[str]]` (batch of pretokenized examples)."
     ]
    }
   ],
   "source": [
    "# Initialize ChromaDB\n",
    "chroma_client = chromadb.PersistentClient(path=\"chroma_db_v1\")\n",
    "collection = chroma_client.get_or_create_collection(\n",
    "    name=\"new_documents\",\n",
    "    embedding_function=SentenceTransformerEmbeddingFunction(model_name=EMBEDDING_MODEL)\n",
    ")\n",
    "model = SentenceTransformer(EMBEDDING_MODEL)\n",
    "query_embedding = model.encode([query], convert_to_tensor=True).tolist()\n",
    "\n",
    "results = collection.query(\n",
    "    query_embeddings=query_embedding,\n",
    "    n_results=5 \n",
    ")\n",
    "\n",
    "metadatas = results[\"metadatas\"]\n",
    "\n",
    "# context = \"\\n\\n\".join(['\\n'.join([res['name'],res['product_gender'], res[\"description\"]]) for res in metadatas])\n",
    "\n",
    "# Initialize BGE reranker\n",
    "reranker = FlagReranker(\"BAAI/bge-reranker-large\", use_fp16=True)\n",
    "# Chuẩn bị input cho reranker\n",
    "# pairs = [(query, [[doc['name'],doc['product_gender'],doc['product_style'],doc[\"description\"]] for doc in metadatas[0]])]\n",
    "# pairs = [(query, doc['name'] + ' ' + doc['product_gender'] + ' ' +doc['product_style'] + ' ' +doc[\"description\"]) for doc in metadatas[0]]\n",
    "\n",
    "# scores = reranker.compute_score(pairs)\n",
    "\n",
    "# # Sắp xếp theo điểm rerank\n",
    "# ranked_results = sorted(zip(metadatas, scores), key=lambda x: x[2], reverse=True)\n",
    "\n",
    "# # Chọn top rerank_k tài liệu tốt nhất\n",
    "# top_docs, top_metadatas, _ = zip(*ranked_results[:5])\n"
   ]
  },
  {
   "cell_type": "code",
   "execution_count": null,
   "metadata": {},
   "outputs": [],
   "source": [
    "doc_tmp = [doc['name'] + ' ' + doc['product_gender'] + ' ' +doc['product_style'] + ' ' +doc[\"description\"] for doc in metadatas[0]]\n",
    "pairs = [(query, doc['name'] + ' ' + doc['product_gender'] + ' ' +doc['product_style'] + ' ' +doc[\"description\"]) for doc in metadatas[0]]\n",
    "\n",
    "scores = reranker.compute_score(pairs)\n",
    "\n",
    "# Sắp xếp theo điểm rerank\n",
    "ranked_results = sorted(zip(doc_tmp, scores), reverse=True)\n",
    "\n",
    "# Chọn top rerank_k tài liệu tốt nhất\n",
    "top_docs, top_metadatas = zip(*ranked_results[:5])\n"
   ]
  },
  {
   "cell_type": "code",
   "execution_count": 67,
   "metadata": {},
   "outputs": [
    {
     "data": {
      "text/plain": [
       "(('Viktor&Rolf Flowerbomb Dew Nữ Nữ tính, Gợi cảm, Dịu dàng Hương đầu: Lê, Ambrette, Giọt sương, Cam bergamot Hưng giữa: Hoa diên vĩ, Hoa hồng Hương cuối: Xạ hương, Len cashmeran, Hoa vòi voi Đôi khi ta không cần phải cá tính để được nổi bật, hay gợi cảm để được chú ý đến, là phụ nữ, bạn chỉ cần chọn cho mình một mùi hương bạn thích, đúng tâm trạng, giản đơn nhưng đủ khiến bản thân thấy vui. Hay quý giá hơn thảy là tự mình cảm được chất “thơ\" trong mùi hương ấy mà không cần đến bất kỳ sự khen ngợi, ca tụng của ai. Tôi phải thừa nhận mình si mê Flowerbomb Dew Viktor & Rolf ngay từ những giây phút đầu tiên, vẻ lãng đãng, mộng mơ của cô nàng đã khiến tôi phải suy đoán trong rối bời những nốt hương tổng thể mà cô mang. Mãi đến sau này, tôi mới biết sự phiêu bồng ấy nhờ tông vị của Xạ hương cùng Len cashmeran cấu thành nên. Cùng với nét dịu dàng rất đỗi nên thơ của Hoa diên vĩ cộng hưởng cùng Hoa hồng, những ai ban đầu nói “không\" thì chắc chắn sẽ rất hối hận khi Flowerbomb Dew Viktor & Rolf cuối cùng cũng tung ra tầng tầng lớp lớp những đóa hoa nở rộ khi về sau.',\n",
       "  'Viktor&Rolf Flowerbomb Dew Nữ Nữ tính, Gợi cảm, Dịu dàng Hương đầu: Lê, Ambrette, Giọt sương, Cam bergamot Hưng giữa: Hoa diên vĩ, Hoa hồng Hương cuối: Xạ hương, Len cashmeran, Hoa vòi voi Đôi khi ta không cần phải cá tính để được nổi bật, hay gợi cảm để được chú ý đến, là phụ nữ, bạn chỉ cần chọn cho mình một mùi hương bạn thích, đúng tâm trạng, giản đơn nhưng đủ khiến bản thân thấy vui. Hay quý giá hơn thảy là tự mình cảm được chất “thơ\" trong mùi hương ấy mà không cần đến bất kỳ sự khen ngợi, ca tụng của ai. Tôi phải thừa nhận mình si mê Flowerbomb Dew Viktor & Rolf ngay từ những giây phút đầu tiên, vẻ lãng đãng, mộng mơ của cô nàng đã khiến tôi phải suy đoán trong rối bời những nốt hương tổng thể mà cô mang. Mãi đến sau này, tôi mới biết sự phiêu bồng ấy nhờ tông vị của Xạ hương cùng Len cashmeran cấu thành nên. Cùng với nét dịu dàng rất đỗi nên thơ của Hoa diên vĩ cộng hưởng cùng Hoa hồng, những ai ban đầu nói “không\" thì chắc chắn sẽ rất hối hận khi Flowerbomb Dew Viktor & Rolf cuối cùng cũng tung ra tầng tầng lớp lớp những đóa hoa nở rộ khi về sau.',\n",
       "  'Versace Pour Homme Dylan Blue Nam Nam tính, Tươi mát, Hấp dẫn Hương đầu: Hương nước, Cam Bergamot Calabria, Quả bưởi, Lá sung Hương giữa: Lá hoa tím, Cây hoắc hương, Tiêu đen, Hương Ambroxan, Giấy cói Hương cuối: Xạ hương, Nhang (Hương), Đậu Tonka, Saffron Nếu như có ai hỏi tôi đã bao giờ bị một ai đó mê hoặc bởi mùi hương hay chưa, có lẽ tôi sẽ không do dự mà nói rằng đã từng, và trong đầu nghĩ ngay đến mùi hương man mát, nam tính được toả ra bởi Versace Pour Homme Dylan Blue. Tôi bị ấn tượng bởi những nốt hương của chai nước hoa này bởi sự mở đầu tinh khiết, trong trẻo của hương nước, Cam Bergamot và Bưởi. Nhưng trái với sự phóng khoáng, tươi mới ấy, Dylan Blue còn hấp dẫn tôi bởi cái sự nam tính của Hương Ambroxan, sự gai góc đầy cá tính của Tiêu đen. Chàng ta còn có thêm cái ấm áp, ngọt ngào của Xạ hương và Đậu tonka. Thứ hương đầy gợi cảm ấy như một cái bẫy ngọt ngào khiến bao con mồi tự sa vào. Bạn biết đó, tôi cũng là một trong số những con mồi bị thu hút bởi thứ hương sạch sẽ, cuốn hút ấy.',\n",
       "  'Versace Pour Homme Dylan Blue Nam Nam tính, Tươi mát, Hấp dẫn Hương đầu: Hương nước, Cam Bergamot Calabria, Quả bưởi, Lá sung Hương giữa: Lá hoa tím, Cây hoắc hương, Tiêu đen, Hương Ambroxan, Giấy cói Hương cuối: Xạ hương, Nhang (Hương), Đậu Tonka, Saffron Nếu như có ai hỏi tôi đã bao giờ bị một ai đó mê hoặc bởi mùi hương hay chưa, có lẽ tôi sẽ không do dự mà nói rằng đã từng, và trong đầu nghĩ ngay đến mùi hương man mát, nam tính được toả ra bởi Versace Pour Homme Dylan Blue. Tôi bị ấn tượng bởi những nốt hương của chai nước hoa này bởi sự mở đầu tinh khiết, trong trẻo của hương nước, Cam Bergamot và Bưởi. Nhưng trái với sự phóng khoáng, tươi mới ấy, Dylan Blue còn hấp dẫn tôi bởi cái sự nam tính của Hương Ambroxan, sự gai góc đầy cá tính của Tiêu đen. Chàng ta còn có thêm cái ấm áp, ngọt ngào của Xạ hương và Đậu tonka. Thứ hương đầy gợi cảm ấy như một cái bẫy ngọt ngào khiến bao con mồi tự sa vào. Bạn biết đó, tôi cũng là một trong số những con mồi bị thu hút bởi thứ hương sạch sẽ, cuốn hút ấy.',\n",
       "  'Dior Homme Intense 2011 Nam Lịch lãm, Quyến rũ, Thu Hút Hương Đầu: Hoa Oải Hương (Lavender) Hương giữa: Hoa diên vĩ, Cây vông vang, Quả lê Hương cuối: Cỏ hương bài, Gỗ tuyết tùng Virginia Chắc hẳn bạn đã từng nghe rất nhiều về những mùi hương nước hoa được miêu tả bằng chữ \"đẹp\" dành cho phái nữ, nhưng từ đẹp rất khi khi được dùng cho nước hoa Nam, hẳn bởi phái mạnh không quen dùng từ ngữ đó. Nhưng với rất nhiều người khi tiếp xúc với\\xa0Dior Homme Intense, khái niệm mùi hương \"đẹp\" sẽ được dành tặng cho gã đàn ông này một cách thuyết phục.\\xa0Dior Homme Intense được ví như là một kẻ gây nghiện, gây nghiện với chính người dùng, và lây lan cái \"nghiện\" đó cho cả những người xung quanh. Một ngày mưa gió, lạnh lẽo, tỉnh giấc cùng bầu trời xám xịt đen sì ngoài kia, cách tốt nhất để làm hài lòng bản thân là xịt một shot\\xa0Dior Homme Intense vào cơ thể và đi ngủ tiếp, như thể nó sẽ mang lại sự thư giãn tuyệt đối, bình yên vô điều kiện cho bất kỳ chàng trai nào. Ở khía cạnh gây ấn tượng với phái nữ, mang trong mình mùi hương Lavender đầy sự cám dỗ, tinh tế cùng Hoa diên vĩ và cây vông vang,\\xa0Dior Homme Intense thúc dục và dễ dàng tháo gỡ mọi rào cản một cách diệu kỳ, biến những thứ tưởng lạ mà trở thành quen một cách thú vị. Chàng trai nhà Dior này được nhiều người đặt cho cái biệt danh bảnh trai nhưng khá lười biếng, cũng chính vì vậy mà mọi cô gái đều muốn được chăm sóc và ở bên cạnh để hỗ trợ hết mình cho gã đàn ông đào hoa bẩm sinh này.'),\n",
       " (-1.267578125, -1.267578125, 1.408203125, 1.408203125, 1.34765625))"
      ]
     },
     "execution_count": 67,
     "metadata": {},
     "output_type": "execute_result"
    }
   ],
   "source": [
    "top_docs, top_metadatas"
   ]
  },
  {
   "cell_type": "code",
   "execution_count": null,
   "metadata": {},
   "outputs": [],
   "source": []
  }
 ],
 "metadata": {
  "kernelspec": {
   "display_name": "Python 3",
   "language": "python",
   "name": "python3"
  },
  "language_info": {
   "codemirror_mode": {
    "name": "ipython",
    "version": 3
   },
   "file_extension": ".py",
   "mimetype": "text/x-python",
   "name": "python",
   "nbconvert_exporter": "python",
   "pygments_lexer": "ipython3",
   "version": "3.11.6"
  }
 },
 "nbformat": 4,
 "nbformat_minor": 2
}
